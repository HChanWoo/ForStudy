{
 "cells": [
  {
   "cell_type": "code",
   "execution_count": 3,
   "metadata": {},
   "outputs": [],
   "source": [
    "import pandas as pd\n",
    "\n",
    "filename = 'C:/Users/DFINE13/OneDrive/바탕 화면/dummy_text.txt' # 작업할 파일이 저장된 경로\n",
    "fr = open(filename, 'r', encoding='utf-8')\n",
    "txt = fr.read()\n",
    "fr.close()\n",
    "\n",
    "splitTxt = txt.split(' ') # ' '기준으로 문자열 나누기(공백 미제거)\n",
    "\n",
    "dictTxt = {}\n",
    "\n",
    "for st in splitTxt :\n",
    "    if st == '' : \n",
    "        continue\n",
    "    if st in dictTxt :\n",
    "        dictTxt[st]+=1\n",
    "    else :\n",
    "        dictTxt[st]=1\n",
    "\n",
    "# ( sorted : 내림차순 정리 ) => ( dict : 튜플->딕셔너리)\n",
    "# 내림차순으로 정리할시 딕셔너리가 튜플로 바뀜\n",
    "dictTxt = dict((a,b) for a,b in sorted(dictTxt.items(), reverse=True, key=lambda item:item[1]))\n",
    "\n",
    "# dictionary 를 dataframe 구조로 바꿈\n",
    "pdTxt = pd.DataFrame(list(dictTxt.items()), columns=['단어','빈도수'])\n",
    "\n",
    "# 현재 작업중인 파이썬 파일이 속한 폴더에 해당 파일 이름으로 저장\n",
    "pdTxt.to_csv('keyword.csv',header=False,index=False,encoding='utf-8-sig')"
   ]
  },
  {
   "cell_type": "code",
   "execution_count": null,
   "metadata": {},
   "outputs": [],
   "source": []
  }
 ],
 "metadata": {
  "kernelspec": {
   "display_name": "Python 3",
   "language": "python",
   "name": "python3"
  },
  "language_info": {
   "codemirror_mode": {
    "name": "ipython",
    "version": 3
   },
   "file_extension": ".py",
   "mimetype": "text/x-python",
   "name": "python",
   "nbconvert_exporter": "python",
   "pygments_lexer": "ipython3",
   "version": "3.8.5"
  }
 },
 "nbformat": 4,
 "nbformat_minor": 4
}
