{
 "cells": [
  {
   "cell_type": "markdown",
   "metadata": {},
   "source": [
    "# 전처리\n",
    "# 1. 우편번호,시도,시군구까지만 추출\n",
    "# 2. 중복제거"
   ]
  },
  {
   "cell_type": "code",
   "execution_count": 64,
   "metadata": {},
   "outputs": [
    {
     "name": "stdout",
     "output_type": "stream",
     "text": [
      "==========>\t강원도.xlsx\n",
      "==========>\t경기도.xlsx\n",
      "==========>\t경상남도.xlsx\n",
      "==========>\t경상북도.xlsx\n",
      "==========>\t광주광역시.xlsx\n",
      "==========>\t대구광역시.xlsx\n",
      "==========>\t대전광역시.xlsx\n",
      "==========>\t부산광역시.xlsx\n",
      "==========>\t서울특별시.xlsx\n",
      "==========>\t세종특별자치시.xlsx\n",
      "==========>\t울산광역시.xlsx\n",
      "==========>\t인천광역시.xlsx\n",
      "==========>\t전라남도.xlsx\n",
      "==========>\t전라북도.xlsx\n",
      "==========>\t제주특별자치도.xlsx\n",
      "==========>\t충청남도.xlsx\n",
      "==========>\t충청북도.xlsx\n",
      "잘 합쳐졌나요? : yes\n"
     ]
    }
   ],
   "source": [
    "import pandas as pd\n",
    "import sys\n",
    "\n",
    "#합칠 엑셀파일 이름\n",
    "excel_names = ['강원도.xlsx','경기도.xlsx','경상남도.xlsx','경상북도.xlsx','광주광역시.xlsx','대구광역시.xlsx',\n",
    "               '대전광역시.xlsx','부산광역시.xlsx','서울특별시.xlsx','세종특별자치시.xlsx','울산광역시.xlsx',\n",
    "               '인천광역시.xlsx','전라남도.xlsx','전라북도.xlsx','제주특별자치도.xlsx','충청남도.xlsx','충청북도.xlsx']\n",
    "\n",
    "#엑셀 파일별 우편번호 수\n",
    "dict_answer = {'강원도' : 1803, '경기도' : 6215, '경상남도' : 2339, '경상북도' : 3189, '광주광역시' : 1004,\n",
    "               '대구광역시' : 1493, '대전광역시' : 1105, '부산광역시' : 2296, '서울특별시' : 5638, \n",
    "               '세종특별자치시' : 148, '울산광역시' : 627, '인천광역시' : 1320, '전라남도' : 1924, \n",
    "               '전라북도' : 1571, '제주특별자치도' : 511, '충청남도' : 1700, '충청남도' : 1552}\n",
    "\n",
    "#기본 파일 경로 지정\n",
    "base_dir = 'C:/Users/DFINE13/OneDrive/바탕 화면/지역별 주소/'\n",
    "\n",
    "list_dfShape = []\n",
    "df = pd.read_excel( base_dir+excel_names[0] )\n",
    "list_dfShape.append(df.shape)\n",
    "print('==========>\\t' + excel_names[0])\n",
    "\n",
    "for i in range(len(excel_names)-1) :\n",
    "    df_add = pd.read_excel( base_dir+excel_names[i+1] )\n",
    "    list_dfShape.append( df_add.shape )\n",
    "    df = df.append( df_add )\n",
    "    print('==========>\\t' + excel_names[i+1])\n",
    "    \n",
    "#잘 합쳐졌는지 확인\n",
    "print('잘 합쳐졌나요? : ' + ('yes' if sum(list(map(lambda x:x[0], list_dfShape))) == df.shape[0] else 'no'))"
   ]
  },
  {
   "cell_type": "markdown",
   "metadata": {},
   "source": [
    "# 통합된 데이터가 파일로 필요하게 되면 # 제거후 실행"
   ]
  },
  {
   "cell_type": "code",
   "execution_count": 50,
   "metadata": {},
   "outputs": [],
   "source": [
    "#df.to_csv('C:/Users/DFINE13/OneDrive/바탕 화면/지역별 주소/통합.csv', index=False, encoding='utf-8-sig')"
   ]
  },
  {
   "cell_type": "markdown",
   "metadata": {},
   "source": [
    "# 검색을 원하는 우편번호를 입력하면 원하는 시군구 출력"
   ]
  },
  {
   "cell_type": "code",
   "execution_count": 73,
   "metadata": {},
   "outputs": [
    {
     "name": "stdout",
     "output_type": "stream",
     "text": [
      "검색할 우편번호를 입력하세요 : 41768\n",
      "      우편번호     시도 시군구\n",
      "538  41768  대구광역시  서구\n"
     ]
    }
   ],
   "source": [
    "a = int(input('검색할 우편번호를 입력하세요 : '))\n",
    "\n",
    "if df[df['우편번호']==a].empty : \n",
    "    print('해당 우편번호는 존재하지 않습니다.')\n",
    "else : \n",
    "    print(df[df['우편번호']==a])"
   ]
  },
  {
   "cell_type": "code",
   "execution_count": 83,
   "metadata": {},
   "outputs": [
    {
     "name": "stdout",
     "output_type": "stream",
     "text": [
      "2615    성동구\n",
      "4718\n"
     ]
    }
   ],
   "source": [
    "# pandas.core.series.Series 로 출력됨 ( int : int(test_var['col명']), str : test_var['col명'].to_string())\n",
    "test_var = df[df['우편번호']==4718]\n",
    "print(test_var['시군구'].to_string())\n",
    "print(int(test_var['우편번호']))"
   ]
  },
  {
   "cell_type": "code",
   "execution_count": null,
   "metadata": {},
   "outputs": [],
   "source": []
  }
 ],
 "metadata": {
  "kernelspec": {
   "display_name": "Python 3",
   "language": "python",
   "name": "python3"
  },
  "language_info": {
   "codemirror_mode": {
    "name": "ipython",
    "version": 3
   },
   "file_extension": ".py",
   "mimetype": "text/x-python",
   "name": "python",
   "nbconvert_exporter": "python",
   "pygments_lexer": "ipython3",
   "version": "3.8.5"
  }
 },
 "nbformat": 4,
 "nbformat_minor": 4
}
