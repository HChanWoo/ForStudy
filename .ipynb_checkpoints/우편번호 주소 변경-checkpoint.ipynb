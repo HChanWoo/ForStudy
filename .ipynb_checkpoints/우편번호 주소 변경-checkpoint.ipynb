{
 "cells": [
  {
   "cell_type": "code",
   "execution_count": 1,
   "metadata": {},
   "outputs": [],
   "source": [
    "import pandas as pd\n",
    "import sys\n",
    "\n",
    "#합칠 엑셀파일 이름\n",
    "excel_names = ['강원도.xlsx','경기도.xlsx','경상남도.xlsx','경상북도.xlsx','광주광역시.xlsx','대구광역시.xlsx',\n",
    "               '대전광역시.xlsx','부산광역시.xlsx','서울특별시.xlsx','세종특별자치시.xlsx','울산광역시.xlsx',\n",
    "               '인천광역시.xlsx','전라남도.xlsx','전라북도.xlsx','제주특별자치도.xlsx','충청남도.xlsx','충청북도.xlsx']\n",
    "\n",
    "#엑셀 파일별 우편번호 수\n",
    "dict_answer = {'강원도' : 353810, '경기도' : 990178, '경상남도' : 650214, '경상북도' : 719030, '광주광역시' : 125263,\n",
    "               '대구광역시' : 222222, '대전광역시' : 117252, '부산광역시' : 312216, '서울특별시' : 546406, \n",
    "               '세종특별자치시' : 26455, '울산광역시' : 104833, '인천광역시' : 190749, '전라남도' : 594822, \n",
    "               '전라북도' : 437306, '제주특별자치도' : 150739, '충청남도' : 481342, '충청남도' : 325834}"
   ]
  },
  {
   "cell_type": "code",
   "execution_count": 25,
   "metadata": {},
   "outputs": [
    {
     "name": "stdout",
     "output_type": "stream",
     "text": [
      "(6348671, 3)\n"
     ]
    }
   ],
   "source": [
    "#기본 파일 경로 지정\n",
    "base_dir = 'C:/Users/DFINE13/OneDrive/바탕 화면/지역별 주소/'\n",
    "\n",
    "list_dfShape = []\n",
    "df = pd.read_excel( base_dir+excel_names[0] )\n",
    "list_dfShape.append(df.shape)\n",
    "print('==========' + excel_names[0] + ' merge 완료==========')\n",
    "\n",
    "for i in range(len(excel_names)-1) :\n",
    "    df_add = pd.read_excel( base_dir+excel_names[i+1] )\n",
    "    list_dfShape.append( df_add.shape )\n",
    "    df = df.append( df_add )\n",
    "    print('==========' + excel_names[i+1] + ' merge 완료==========')"
   ]
  },
  {
   "cell_type": "code",
   "execution_count": 37,
   "metadata": {},
   "outputs": [
    {
     "name": "stdout",
     "output_type": "stream",
     "text": [
      "True\n"
     ]
    }
   ],
   "source": [
    "#잘 합쳐졌는지 확인\n",
    "print( sum(list(map(lambda x:x[0], list_dfShape))) == df.shape[0])"
   ]
  },
  {
   "cell_type": "code",
   "execution_count": 40,
   "metadata": {},
   "outputs": [],
   "source": [
    "#통합본 엑셀 파일로 내보내기 => 용량이 너무 커서 메모장으로 열어야함\n",
    "df.to_csv('C:/Users/DFINE13/OneDrive/바탕 화면/지역별 주소/통합.csv', index=False)"
   ]
  },
  {
   "cell_type": "code",
   "execution_count": null,
   "metadata": {},
   "outputs": [],
   "source": []
  }
 ],
 "metadata": {
  "kernelspec": {
   "display_name": "Python 3",
   "language": "python",
   "name": "python3"
  },
  "language_info": {
   "codemirror_mode": {
    "name": "ipython",
    "version": 3
   },
   "file_extension": ".py",
   "mimetype": "text/x-python",
   "name": "python",
   "nbconvert_exporter": "python",
   "pygments_lexer": "ipython3",
   "version": "3.8.5"
  }
 },
 "nbformat": 4,
 "nbformat_minor": 4
}
